{
  "nbformat": 4,
  "nbformat_minor": 0,
  "metadata": {
    "colab": {
      "name": "Adapative_pricing_model.ipynb",
      "provenance": [],
      "collapsed_sections": [],
      "authorship_tag": "ABX9TyP5SiK1I1133oj0V5jZd0Cb",
      "include_colab_link": true
    },
    "kernelspec": {
      "name": "python3",
      "display_name": "Python 3"
    },
    "language_info": {
      "name": "python"
    }
  },
  "cells": [
    {
      "cell_type": "markdown",
      "metadata": {
        "id": "view-in-github",
        "colab_type": "text"
      },
      "source": [
        "<a href=\"https://colab.research.google.com/github/Neeraj-Palliyali/s2p/blob/master/Adapative_pricing_model.ipynb\" target=\"_parent\"><img src=\"https://colab.research.google.com/assets/colab-badge.svg\" alt=\"Open In Colab\"/></a>"
      ]
    },
    {
      "cell_type": "code",
      "metadata": {
        "id": "WF7CyXwP-bNW"
      },
      "source": [
        "# univariate multi-step lstm for the power usage dataset\n",
        "from math import sqrt\n",
        "from numpy import split\n",
        "from numpy import array\n",
        "from pandas import read_csv\n",
        "from sklearn.metrics import mean_squared_error\n",
        "from matplotlib import pyplot\n",
        "from keras.models import Sequential\n",
        "from keras.layers import Dense, Dropout\n",
        "from keras.layers import LSTM\n",
        "from pandas import DataFrame\n",
        "\n",
        "\n",
        "# import pandas as pd\n",
        "\n",
        "from sklearn.model_selection import train_test_split\n",
        "from keras import Model, layers\n",
        "from keras.models import load_model, model_from_json\n"
      ],
      "execution_count": 2,
      "outputs": []
    },
    {
      "cell_type": "code",
      "metadata": {
        "colab": {
          "base_uri": "https://localhost:8080/"
        },
        "id": "eU4Aou2tx3wR",
        "outputId": "8795d47e-a5b9-4ba0-d331-62d68fac4640"
      },
      "source": [
        "from google.colab import drive\n",
        "drive.mount('/content/drive', force_remount=True)"
      ],
      "execution_count": 3,
      "outputs": [
        {
          "output_type": "stream",
          "name": "stdout",
          "text": [
            "Mounted at /content/drive\n"
          ]
        }
      ]
    },
    {
      "cell_type": "code",
      "metadata": {
        "id": "uL6JwjuZ2DXZ"
      },
      "source": [
        "def split_dataset(data):\n",
        "    train, test = data[1:1658881], data[1658881: 2075041]\n",
        "    # restructure into windows of weekly data\n",
        "    # print(len(train))\n",
        "    # print(len(test))\n",
        "    train =array( split(train, len(train)/1440))\n",
        "    test = array( split(test, len(test)/1440))\n",
        "    return train, test"
      ],
      "execution_count": 4,
      "outputs": []
    },
    {
      "cell_type": "code",
      "metadata": {
        "id": "GKlT60cDY6yZ"
      },
      "source": [
        "# evaluate a single model\n",
        "def evaluate_model(train, test, n_input):\n",
        "    # fit model\n",
        "    model = build_and_train_model(train, n_input)\n",
        "    model.save('models/RNN_UniVariate_BasicLSTM_Model_21dayinput.h5')\n",
        "\n",
        "    # architecture to JSON, weights to HDF5\n",
        "    model.save_weights('models/RNN_UniVariate_BasicLSTM_Model_Weights_21dayinput.h5')\n",
        "    with open('models/RNN_UniVariate_BasicLSTM_Model_architecture_21dayinput.json', 'w') as f:\n",
        "            f.write(model.to_json())\n",
        "    # history is a list of weekly data\n",
        "    history = [x for x in train]\n",
        "    # walk-forward validation over each week\n",
        "    predictions = list()\n",
        "    for i in range(len(test)):\n",
        "        # predict the week\n",
        "        yhat_sequence = forecast(model, history, n_input)\n",
        "        # store the predictions\n",
        "        predictions.append(yhat_sequence)\n",
        "        # get real observation and add to history for predicting the next week\n",
        "        history.append(test[i, :])\n",
        "    # evaluate predictions days for each week\n",
        "    predictions = array(predictions)\n",
        "    score, scores = evaluate_forecasts(test[:, :, 0], predictions)\n",
        "    return score, scores"
      ],
      "execution_count": 5,
      "outputs": []
    },
    {
      "cell_type": "code",
      "metadata": {
        "id": "oV9DNXFRY9oh"
      },
      "source": [
        "def build_and_train_model(train, n_input):\n",
        "    # prepare data\n",
        "    train_x, train_y = to_supervised(train, n_input)\n",
        "    # define parameters\n",
        "    verbose, epochs, batch_size = 1, 70, 16\n",
        "    n_timesteps, n_features, n_outputs = train_x.shape[1], train_x.shape[2], train_y.shape[1]\n",
        "    # define model\n",
        "    model = Sequential()\n",
        "    model.add(LSTM(200, activation='relu', input_shape=(n_timesteps, n_features)))\n",
        "    model.add(Dense(100, activation='relu'))\n",
        "    # model.add(Dropout(0.2))\n",
        "    model.add(Dense(n_outputs))\n",
        "    model.compile(loss='mse', optimizer='adam')\n",
        "    # fit network\n",
        "    model.fit(train_x, train_y, epochs=epochs, batch_size=batch_size, verbose=verbose)\n",
        "    return model"
      ],
      "execution_count": 6,
      "outputs": []
    },
    {
      "cell_type": "code",
      "metadata": {
        "id": "hfr9uUvRZBLA"
      },
      "source": [
        "# convert history into inputs and outputs\n",
        "def to_supervised(train, n_input, n_out=7):\n",
        "    # flatten data\n",
        "    data = train.reshape((train.shape[0]*train.shape[1], train.shape[2]))\n",
        "    X, y = list(), list()\n",
        "    in_start = 0\n",
        "    # step over the entire history one time step at a time\n",
        "    for _ in range(len(data)):\n",
        "        # define the end of the input sequence\n",
        "        in_end = in_start + n_input\n",
        "        out_end = in_end + n_out\n",
        "        # ensure we have enough data for this instance\n",
        "        if out_end < len(data):\n",
        "            x_input = data[in_start:in_end, 0]\n",
        "            x_input = x_input.reshape((len(x_input), 1))\n",
        "            X.append(x_input)\n",
        "            y.append(data[in_end:out_end, 0])\n",
        "        # move along one time step\n",
        "        in_start += 1\n",
        "    return array(X), array(y)\n"
      ],
      "execution_count": 7,
      "outputs": []
    },
    {
      "cell_type": "code",
      "metadata": {
        "colab": {
          "base_uri": "https://localhost:8080/"
        },
        "id": "E6ILk705yIif",
        "outputId": "bcacc1b4-f45c-4565-821b-26d3edf39672"
      },
      "source": [
        "\n",
        "data=\"/content/drive/MyDrive/smart meter dataset/household_power_consumption/minute_household_power_final.csv\"\n",
        "df = read_csv(data,header=0, parse_dates=['Date'], infer_datetime_format=True, index_col=['Date'])\n",
        "train, test  = split_dataset(df.values)\n",
        "\n",
        "\n",
        "\n",
        "n_input = 1440\n",
        "score, scores = evaluate_model(train, test, n_input)\n",
        "\n"
      ],
      "execution_count": null,
      "outputs": [
        {
          "output_type": "stream",
          "name": "stderr",
          "text": [
            "/usr/local/lib/python3.7/dist-packages/IPython/core/interactiveshell.py:2718: DtypeWarning: Columns (2,3,4,5,6,7) have mixed types.Specify dtype option on import or set low_memory=False.\n",
            "  interactivity=interactivity, compiler=compiler, result=result)\n"
          ]
        }
      ]
    },
    {
      "cell_type": "code",
      "metadata": {
        "id": "0W42tlVtOKGM"
      },
      "source": [
        ""
      ],
      "execution_count": null,
      "outputs": []
    }
  ]
}